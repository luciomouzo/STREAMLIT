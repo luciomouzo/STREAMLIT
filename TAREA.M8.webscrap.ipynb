{
 "cells": [
  {
   "cell_type": "markdown",
   "metadata": {},
   "source": [
    "# Tarea M8 MPAD de Mouzo Monteagudo_Lucio Alejandro"
   ]
  },
  {
   "cell_type": "markdown",
   "metadata": {},
   "source": [
    "#### Importar pandas y las librerías utilizadas para resolver la tarea."
   ]
  },
  {
   "cell_type": "code",
   "execution_count": 10,
   "metadata": {},
   "outputs": [],
   "source": [
    "# Importe todas las librerias que se usan en esta notebook\n",
    "import os\n",
    "import requests\n",
    "import pandas as pd\n",
    "import time\n",
    "import json\n"
   ]
  },
  {
   "cell_type": "markdown",
   "metadata": {},
   "source": [
    "# 1.\tElija una API deportiva o un conjunto de datos deportivos de las siguientes opciones: "
   ]
  },
  {
   "cell_type": "markdown",
   "metadata": {},
   "source": [
    "\n",
    "    * API abierta de datos deportivos\n",
    "    * API de una página web deportiva\n",
    "    * Conjunto de datos de StatsBomb Open Data\n",
    "    * Simulador de API como base de datos (si no tiene acceso a una API real)\n"
   ]
  },
  {
   "cell_type": "code",
   "execution_count": 11,
   "metadata": {},
   "outputs": [],
   "source": [
    "# Cuente y describa que api eligió"
   ]
  },
  {
   "cell_type": "markdown",
   "metadata": {},
   "source": [
    "La API que he escogido es la de Football-Data, que ofrece datos acerca de las competiciones. Tiene una parte gratuita con una cantidad de competiciones, y luego varias secciones de pago donde se puede incrementar la cantidad de estadísticas y datos, y también la cantidad de competiciones que podemos visualizar.\n",
    "Esta API, tiene una cantidad límite de solicitudes dependiendo de la suscripción que se tenga, y también se necesita entrar a través de una clave.\n",
    "El formato de los datos que nos proporciona es en archivo JSON."
   ]
  },
  {
   "cell_type": "markdown",
   "metadata": {},
   "source": [
    "# 2.\tRealice las siguientes tareas, creando funciones para cada paso principal: "
   ]
  },
  {
   "cell_type": "markdown",
   "metadata": {},
   "source": [
    "### a) Análisis y Planificación\n",
    "\n",
    "* Analice la estructura y documentación de la API o conjunto de datos elegido.  \n",
    "* Identifique los endpoints relevantes o los datos específicos a extraer. \n",
    "* Planifique la estrategia de adquisición de datos, considerando límites de tasa si es aplicable. \n",
    "* Documente las consideraciones éticas y legales del uso de la API o datos. \n"
   ]
  },
  {
   "cell_type": "code",
   "execution_count": 12,
   "metadata": {},
   "outputs": [],
   "source": [
    "# Describa los endpoint que utilizara en el proceso."
   ]
  },
  {
   "cell_type": "markdown",
   "metadata": {},
   "source": [
    "Los puntos en los que nos hemos centraaado para recoger la información han sido los endpoints de las competiciones y de las clasificaciones de cada una de las ligas.\n",
    "Para la autenticación de los datos se necesita el X_Auth_token, con la clave que nosha proporcionado al loogearnos, y también he añadido puntos en los que se avise en caso de error para ir directo y manejarlos. \n",
    "Para los límites de tasas he añadido un tiempo entre cada una de las solicitudes para no sobrecargar la página y no se pase el límite permitido por la página por minuto."
   ]
  },
  {
   "cell_type": "markdown",
   "metadata": {},
   "source": [
    "### b) Implementación de la Adquisición de Datos  \n",
    "* Desarrolle scripts para interactuar con la API o cargar los datos utilizando las bibliotecas apropiadas (requests, pandas, etc.).  \n",
    "* Implemente manejo de autenticación si es necesario. \n",
    "* Incluya manejo de errores y reintentos. \n",
    "* Asegúrese de respetar los límites de tasa y políticas de uso de la API. \n"
   ]
  },
  {
   "cell_type": "code",
   "execution_count": 13,
   "metadata": {},
   "outputs": [],
   "source": [
    "# Genere la implementación de adquisición de datos mediante la API"
   ]
  },
  {
   "cell_type": "code",
   "execution_count": 14,
   "metadata": {},
   "outputs": [
    {
     "name": "stdout",
     "output_type": "stream",
     "text": [
      "Error 429: {\"message\":\"You reached your request limit. Wait 7 seconds.\",\"errorCode\":429}\n",
      "Error 429: {\"message\":\"You reached your request limit. Wait 7 seconds.\",\"errorCode\":429}\n",
      "Error 429: {\"message\":\"You reached your request limit. Wait 7 seconds.\",\"errorCode\":429}\n",
      "No se pudieron obtener los datos para la liga Copa Libertadores\n",
      "Error 429: {\"message\":\"You reached your request limit. Wait 1 seconds.\",\"errorCode\":429}\n",
      "Error 429: {\"message\":\"You reached your request limit. Wait 1 seconds.\",\"errorCode\":429}\n",
      "Error 429: {\"message\":\"You reached your request limit. Wait 1 seconds.\",\"errorCode\":429}\n",
      "No se pudieron obtener los datos para la liga Primera Division\n",
      "Clasificación de todas las ligas:\n",
      "               Equipo                           Liga  Posición  Puntos  \\\n",
      "0         Botafogo FR  Campeonato Brasileiro Série A         1      79   \n",
      "1        SE Palmeiras  Campeonato Brasileiro Série A         2      73   \n",
      "2         CR Flamengo  Campeonato Brasileiro Série A         3      70   \n",
      "3        Fortaleza EC  Campeonato Brasileiro Série A         4      68   \n",
      "4    SC Internacional  Campeonato Brasileiro Série A         5      65   \n",
      "..                ...                            ...       ...     ...   \n",
      "195         FC Arouca                  Primeira Liga        18       8   \n",
      "196       Netherlands                 FIFA World Cup         1       7   \n",
      "197           Senegal                 FIFA World Cup         2       6   \n",
      "198           Ecuador                 FIFA World Cup         3       4   \n",
      "199             Qatar                 FIFA World Cup         4       0   \n",
      "\n",
      "     Partidos Jugados  Ganados  Empatados  Perdidos  Goles a Favor  \\\n",
      "0                  38       23         10         5             59   \n",
      "1                  38       22          7         9             60   \n",
      "2                  38       20         10         8             61   \n",
      "3                  38       19         11         8             53   \n",
      "4                  38       18         11         9             53   \n",
      "..                ...      ...        ...       ...            ...   \n",
      "195                13        2          2         9              7   \n",
      "196                 3        2          1         0              5   \n",
      "197                 3        2          0         1              5   \n",
      "198                 3        1          1         1              4   \n",
      "199                 3        0          0         3              1   \n",
      "\n",
      "     Goles en Contra  Diferencia de Goles  \n",
      "0                 29                   30  \n",
      "1                 33                   27  \n",
      "2                 42                   19  \n",
      "3                 39                   14  \n",
      "4                 36                   17  \n",
      "..               ...                  ...  \n",
      "195               23                  -16  \n",
      "196                1                    4  \n",
      "197                4                    1  \n",
      "198                3                    1  \n",
      "199                7                   -6  \n",
      "\n",
      "[200 rows x 11 columns]\n",
      "Datos de clasificación de todas las ligas guardados en 'clasificacion_todas_ligas.csv'.\n"
     ]
    }
   ],
   "source": [
    "import os\n",
    "import requests\n",
    "import pandas as pd\n",
    "import time\n",
    "\n",
    "# Obtener la API Key de las variables de entorno o ingresarla manualmente\n",
    "api_key = os.getenv(\"FOOTBALL_DATA_API_KEY\", \"2b4bfa139edd4579bb1f791da1bcc3b4\")\n",
    "\n",
    "# Headers con tu API Key\n",
    "headers = {\n",
    "    \"X-Auth-Token\": api_key\n",
    "}\n",
    "\n",
    "# Función para obtener la lista de todas las ligas disponibles\n",
    "def obtener_ligas(headers):\n",
    "    url = \"https://api.football-data.org/v4/competitions\"\n",
    "    response = requests.get(url, headers=headers, timeout=10)\n",
    "    if response.status_code == 200:\n",
    "        return response.json()['competitions']\n",
    "    else:\n",
    "        print(f\"Error {response.status_code}: {response.text}\")\n",
    "        return []\n",
    "\n",
    "# Función para obtener la clasificación de una liga con manejo de errores y reintentos\n",
    "def obtener_clasificacion_liga(league_id, headers, retries=3):\n",
    "    url = f\"https://api.football-data.org/v4/competitions/{league_id}/standings\"\n",
    "    \n",
    "    # Reintentos en caso de fallo\n",
    "    for intento in range(retries):\n",
    "        try:\n",
    "            response = requests.get(url, headers=headers, timeout=10)\n",
    "            if response.status_code == 200:\n",
    "                standings_data = response.json()\n",
    "                standings = standings_data['standings'][0]['table']\n",
    "                return pd.DataFrame([{\n",
    "                    'Equipo': team['team']['name'],\n",
    "                    'Liga': standings_data['competition']['name'],\n",
    "                    'Posición': team['position'],\n",
    "                    'Puntos': team['points'],\n",
    "                    'Partidos Jugados': team['playedGames'],\n",
    "                    'Ganados': team['won'],\n",
    "                    'Empatados': team['draw'],\n",
    "                    'Perdidos': team['lost'],\n",
    "                    'Goles a Favor': team['goalsFor'],\n",
    "                    'Goles en Contra': team['goalsAgainst'],\n",
    "                    'Diferencia de Goles': team['goalDifference']\n",
    "                } for team in standings])\n",
    "            else:\n",
    "                print(f\"Error {response.status_code}: {response.text}\")\n",
    "        except requests.exceptions.RequestException as e:\n",
    "            print(f\"Error en la solicitud: {e}\")\n",
    "            print(f\"Reintento {intento+1}/{retries}...\")\n",
    "            time.sleep(2)  # Pausa antes de reintentar\n",
    "    return None\n",
    "\n",
    "# Función para obtener y combinar clasificaciones de todas las ligas disponibles\n",
    "def obtener_clasificaciones_todas_ligas(headers):\n",
    "    ligas = obtener_ligas(headers)\n",
    "    clasificaciones = pd.DataFrame()\n",
    "    \n",
    "    for liga in ligas:\n",
    "        liga_id = liga['id']\n",
    "        clasificacion = obtener_clasificacion_liga(liga_id, headers)\n",
    "        if clasificacion is not None:\n",
    "            clasificaciones = pd.concat([clasificaciones, clasificacion], ignore_index=True)\n",
    "        else:\n",
    "            print(f\"No se pudieron obtener los datos para la liga {liga['name']}\")\n",
    "        \n",
    "        # Pausar entre solicitudes para respetar los límites de tasa de la API\n",
    "        time.sleep(5)\n",
    "    \n",
    "    return clasificaciones\n",
    "\n",
    "# Obtener las clasificaciones de todas las ligas\n",
    "clasificaciones = obtener_clasificaciones_todas_ligas(headers)\n",
    "\n",
    "# Mostrar los datos combinados\n",
    "print(\"Clasificación de todas las ligas:\")\n",
    "print(clasificaciones)\n",
    "\n",
    "# Guardar los datos en un archivo CSV\n",
    "clasificaciones.to_csv('clasificacion_todas_ligas.csv', index=False)\n",
    "print(\"Datos de clasificación de todas las ligas guardados en 'clasificacion_todas_ligas.csv'.\")\n"
   ]
  },
  {
   "cell_type": "code",
   "execution_count": 18,
   "metadata": {},
   "outputs": [
    {
     "data": {
      "text/plain": [
       "array(['Campeonato Brasileiro Série A', 'Championship', 'Premier League',\n",
       "       'UEFA Champions League', 'European Championship', 'Ligue 1',\n",
       "       'Bundesliga', 'Serie A', 'Eredivisie', 'Primeira Liga',\n",
       "       'FIFA World Cup'], dtype=object)"
      ]
     },
     "execution_count": 18,
     "metadata": {},
     "output_type": "execute_result"
    }
   ],
   "source": [
    "df['Liga'].unique()"
   ]
  },
  {
   "cell_type": "markdown",
   "metadata": {},
   "source": [
    "Para la primera parte en la que recogeremos las distintas clasificaciones que se encuentran en la API. Para ello inicialmente marcamos un GET con la clave que tengo de usuario.\n",
    "Seguimos con la definición de la función para obtener las ligas, donde haremos un bucle por las distintas ligas en las que iremos concatenando la clasificación a las anteriores, con la posibilidad de que si no las encuentre nos de error.\n",
    "de esta forma si todo va bien ya tendremos un Data Frame con todas las ligas"
   ]
  },
  {
   "cell_type": "markdown",
   "metadata": {},
   "source": [
    "\n",
    "* Limpie los datos adquiridos (manejo de valores faltantes, corrección de formatos, etc.). \n",
    "* Realice transformaciones necesarias para el análisis (creación de nuevas columnas, agregaciones, etc.). \n",
    "* Guarde los datos procesados en un formato estructurado (CSV, JSON, etc.). \n"
   ]
  },
  {
   "cell_type": "markdown",
   "metadata": {},
   "source": [
    "Lo que hemos realizado es un filtro para quedarnos únicamente con las ligas que son de nuestro interés, que en este caso son las cinco grandes ligas."
   ]
  },
  {
   "cell_type": "code",
   "execution_count": 15,
   "metadata": {},
   "outputs": [
    {
     "name": "stdout",
     "output_type": "stream",
     "text": [
      "<class 'pandas.core.frame.DataFrame'>\n",
      "RangeIndex: 200 entries, 0 to 199\n",
      "Data columns (total 11 columns):\n",
      " #   Column               Non-Null Count  Dtype \n",
      "---  ------               --------------  ----- \n",
      " 0   Equipo               200 non-null    object\n",
      " 1   Liga                 200 non-null    object\n",
      " 2   Posición             200 non-null    int64 \n",
      " 3   Puntos               200 non-null    int64 \n",
      " 4   Partidos Jugados     200 non-null    int64 \n",
      " 5   Ganados              200 non-null    int64 \n",
      " 6   Empatados            200 non-null    int64 \n",
      " 7   Perdidos             200 non-null    int64 \n",
      " 8   Goles a Favor        200 non-null    int64 \n",
      " 9   Goles en Contra      200 non-null    int64 \n",
      " 10  Diferencia de Goles  200 non-null    int64 \n",
      "dtypes: int64(9), object(2)\n",
      "memory usage: 17.3+ KB\n"
     ]
    }
   ],
   "source": [
    "df=pd.read_csv('clasificacion_todas_ligas.csv')\n",
    "df.info()"
   ]
  },
  {
   "cell_type": "markdown",
   "metadata": {},
   "source": [
    "Podemos observar ek tipo de nuestras columnas, en las que no tenemos ningún elemento nulo, pero además solo son de tipo objeto el equipo y la liga, y las otras son entreros."
   ]
  },
  {
   "cell_type": "code",
   "execution_count": 16,
   "metadata": {
    "scrolled": true
   },
   "outputs": [
    {
     "name": "stdout",
     "output_type": "stream",
     "text": [
      "Datos con las nuevas columnas añadidas:\n",
      "               Equipo                           Liga  Puntos  Efectividad (%)  \\\n",
      "0         Botafogo FR  Campeonato Brasileiro Série A      79        69.298246   \n",
      "1        SE Palmeiras  Campeonato Brasileiro Série A      73        64.035088   \n",
      "2         CR Flamengo  Campeonato Brasileiro Série A      70        61.403509   \n",
      "3        Fortaleza EC  Campeonato Brasileiro Série A      68        59.649123   \n",
      "4    SC Internacional  Campeonato Brasileiro Série A      65        57.017544   \n",
      "..                ...                            ...     ...              ...   \n",
      "195         FC Arouca                  Primeira Liga       8        20.512821   \n",
      "196       Netherlands                 FIFA World Cup       7        77.777778   \n",
      "197           Senegal                 FIFA World Cup       6        66.666667   \n",
      "198           Ecuador                 FIFA World Cup       4        44.444444   \n",
      "199             Qatar                 FIFA World Cup       0         0.000000   \n",
      "\n",
      "     Promedio Goles a Favor  Promedio Goles en Contra  \\\n",
      "0                  1.552632                  0.763158   \n",
      "1                  1.578947                  0.868421   \n",
      "2                  1.605263                  1.105263   \n",
      "3                  1.394737                  1.026316   \n",
      "4                  1.394737                  0.947368   \n",
      "..                      ...                       ...   \n",
      "195                0.538462                  1.769231   \n",
      "196                1.666667                  0.333333   \n",
      "197                1.666667                  1.333333   \n",
      "198                1.333333                  1.000000   \n",
      "199                0.333333                  2.333333   \n",
      "\n",
      "     Diferencia de Goles por Partido  \n",
      "0                           0.789474  \n",
      "1                           0.710526  \n",
      "2                           0.500000  \n",
      "3                           0.368421  \n",
      "4                           0.447368  \n",
      "..                               ...  \n",
      "195                        -1.230769  \n",
      "196                         1.333333  \n",
      "197                         0.333333  \n",
      "198                         0.333333  \n",
      "199                        -2.000000  \n",
      "\n",
      "[200 rows x 7 columns]\n"
     ]
    }
   ],
   "source": [
    "# Crear la columna de Efectividad (%)\n",
    "df.loc[:, 'Efectividad (%)'] = (df['Puntos'] / (df['Partidos Jugados'] * 3)) * 100\n",
    "\n",
    "# Crear la columna de Promedio de Goles por Partido\n",
    "df.loc[:, 'Promedio Goles a Favor'] = df['Goles a Favor'] / df['Partidos Jugados']\n",
    "\n",
    "# Crear la columna de Promedio de Goles en Contra por Partido\n",
    "df.loc[:, 'Promedio Goles en Contra'] = df['Goles en Contra'] / df['Partidos Jugados']\n",
    "\n",
    "# Crear la columna de Diferencia de Goles por Partido\n",
    "df.loc[:, 'Diferencia de Goles por Partido'] = df['Diferencia de Goles'] / df['Partidos Jugados']\n",
    "\n",
    "# Mostrar un resumen de las nuevas columnas creadas\n",
    "print(\"Datos con las nuevas columnas añadidas:\")\n",
    "print(df[['Equipo', 'Liga', 'Puntos', 'Efectividad (%)', 'Promedio Goles a Favor', 'Promedio Goles en Contra', 'Diferencia de Goles por Partido']])"
   ]
  },
  {
   "cell_type": "markdown",
   "metadata": {},
   "source": [
    "Lo que hemos hecho ha sido crear 4 nuevas columnas, en las que encontramos la efectividad de puntos, el promedio de goles tanto a favor como en contra por partido y la diferencia de goles por partido, que las añadimos a las columnas que ya teníamos."
   ]
  },
  {
   "cell_type": "code",
   "execution_count": 17,
   "metadata": {},
   "outputs": [
    {
     "name": "stdout",
     "output_type": "stream",
     "text": [
      "Datos guardados en 'clasificacion_cinco_ligas_procesadas.csv'.\n"
     ]
    }
   ],
   "source": [
    "# Guardar el DataFrame en un archivo CSV\n",
    "df.to_csv('clasificacion_ligas_procesadas.csv', index=False)\n",
    "print(\"Datos guardados en 'clasificacion_cinco_ligas_procesadas.csv'.\")"
   ]
  },
  {
   "cell_type": "markdown",
   "metadata": {},
   "source": [
    "Lo último que haremos en este apartado será guardar el DataFrame en archivos .csv"
   ]
  }
 ],
 "metadata": {
  "kernelspec": {
   "display_name": "Python 3",
   "language": "python",
   "name": "python3"
  },
  "language_info": {
   "codemirror_mode": {
    "name": "ipython",
    "version": 3
   },
   "file_extension": ".py",
   "mimetype": "text/x-python",
   "name": "python",
   "nbconvert_exporter": "python",
   "pygments_lexer": "ipython3",
   "version": "3.11.9"
  }
 },
 "nbformat": 4,
 "nbformat_minor": 4
}
